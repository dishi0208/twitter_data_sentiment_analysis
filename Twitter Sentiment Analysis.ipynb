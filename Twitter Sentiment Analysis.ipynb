{
    "cells": [
        {
            "cell_type": "markdown",
            "metadata": {
                "collapsed": true
            },
            "source": "<H1> <b> <u> Twitter Data Sentiment Analysis </H1>\n<h3> Live streaming sentiment analysis of twitter data using python language. The data is being accessed with the help of tokens from twitters developer account. </h3>\n"
        },
        {
            "cell_type": "code",
            "execution_count": 28,
            "metadata": {},
            "outputs": [
                {
                    "name": "stdout",
                    "output_type": "stream",
                    "text": "Enter your search : modi \nRT @LaxmanJangid17: \u0911\u0938\u094d\u091f\u094d\u0930\u0947\u0932\u093f\u092f\u093e \u0915\u0947 \u0939\u093e\u0908 \u0915\u092e\u093f\u0936\u094d\u0928\u0930 \u0928\u0947 \u092a\u094d\u0930\u0927\u093e\u0928\u092e\u0902\u0924\u094d\u0930\u0940 \u092e\u094b\u0926\u0940 \u0915\u094b \u092c\u0924\u093e\u092f\u093e \u2018\u092e\u0939\u093e\u092e\u093e\u0928\u0935\u2019\nhttps://t.co/nyq4ODTntq via NaMo App https://t.co/v7\u2026\nRT @RamSinghMewad: News reporter also can be Modi Andhbhakt like Aranb Goswami\nThey can't judge what is right and what is wrong\n\n#\u092e\u094b\u0926\u0940_\u0905\u0902\u0927\u092d\u2026\nRT @shamsheer_pak: Fascist modi trying to make Kashmir part of the Indian union against the wishes of the people of Jammu &amp; Kashmir.\n#Kashm\u2026\nRT @Anilkumarmane2: #\u092e\u094b\u0926\u0940_\u0905\u0902\u0927\u092d\u0915\u094d\u0924\u094b\u0902_\u0915\u0947_\u0915\u093e\u0930\u0928\u093e\u092e\u0947\n\u092e\u094b\u0926\u0940 \u0915\u0947 \u0907\u0924\u0928\u0947 \u0905\u0902\u0927\u092d\u0915\u094d\u0924 \u092c\u0922 \u0917\u092f\u0947 \u0939\u0948 \u0915\u0940 \u0909\u0928\u0915\u094b \u0907\u0924\u0928\u0940 \u092d\u0940 \u0905\u0915\u094d\u0915\u0932 \u0928\u0939\u0940 \u0930\u0939\u0940\u0964modi\n\u092b\u0947\u0915\u0942 \u0915\u0940 \u0924\u0941\u0932\u0928\u093e \u091b\u0924\u094d\u0930\u092a\u0924\u0940 \u0936\u093f\u0935\u093e\u2026\n@AsYouNotWish Modi &amp; Amit shah need sabka vishwas.\n\nso \ud83e\udd2b\ud83e\udd2b\ud83e\udd2b\ud83e\udd2b\ud83e\udd2b....\nPrime Minister participates at the online Summit of NAM Contact Group\nhttps://t.co/7DU9Y4lHFJ via NaMo App https://t.co/Z5J0GFcFan\nRT @srivatsayb: BJP leaders are LYING about Govt not charging for railway tickets\n\nThe video is from PM Modi's Gujarat where many migrants\u2026\nRT @BhavikaKapoor5: PC :-  \nDecentralisation is the key\n\nRG :- \nDecentralisation is the key\n\nRRajan :- \nDecentralisation is the key\n\nMMS :-\u2026\nModi ka MASTERSTROKE https://t.co/EaxJlQqzQ0\nExpressing thanks to the Hon'ble PM Narendra Modi for recieving a relief support through Pradhan Mantri Kalyankari\u2026 https://t.co/2fJivD8dAJ\nRT @indcheated2014: @bhupendrachaube Isn't the Job of Journalist to ask questions but they start licking a$$ of Govt, then who makes govt a\u2026\n@VittaVarun @MahuaMoitra You think about the country.Why Only you brought Bengal.She has given statistics for entir\u2026 https://t.co/kXdHfrJc7d\nRT @kariyatsagajano: MODI ANDHBHAKT sees false Digital India\n\nBut they cant see actual situation in our country\n\n#\u092e\u094b\u0926\u0940_\u0905\u0902\u0927\u092d\u0915\u094d\u0924\u094b\u0902_\u0915\u0947_\u0915\u093e\u0930\u0928\u093e\u092e\u0947\n@thea_kan @alnassar_kw https://t.co/9IvuYaYCOI\n\u0915\u094b\u0930\u094b\u0928\u093e \u0935\u0949\u0930\u093f\u092f\u0930\u094d\u0938 \u0915\u0947 \u0932\u093f\u090f \u0938\u0947\u0928\u093e \u0928\u0947 \u092c\u0930\u0938\u093e\u090f \u092b\u0942\u0932, \u092a\u094d\u0930\u0927\u093e\u0928\u092e\u0902\u0924\u094d\u0930\u0940 \u092e\u094b\u0926\u0940 \u0928\u0947 \u0935\u0940\u0921\u093f\u092f\u094b \u0936\u0947\u092f\u0930 \u0915\u0930 \u0915\u093f\u092f\u093e \u0938\u0932\u093e\u092e\nhttps://t.co/1DyxqkK8QQ\n\nvi\u2026 https://t.co/qQTj4qLfw9\nSentiment(polarity=0.0, subjectivity=0.0)\nResults: Negative\n\n"
                }
            ],
            "source": "#tweepy - an easy to use python library for accesing the twitter api.\nimport tweepy\nfrom textblob import TextBlob\n\nconsumer_key = 'fjIX9AuuaNsVwfDuFZKtGhsZ0'\nconsumer_key_secret = 'hg9lVmkRnLVdwWJArgz5Lm1iGxyzMAjgXHQjbGoffzgvEOCta1'\n\naccess_token = '1084501107483791362-rE9QsZc9vAcJZJKhkahrPr67wPzYkh'\naccess_token_secret = 'ZzjJdlGqWdjpzQ5oLHe0ewunhS55OBvM8E7DV2VQC0tdd'\n\nauth = tweepy.OAuthHandler(consumer_key, consumer_key_secret)\n\nauth.set_access_token(access_token, access_token_secret)\n\napi = tweepy.API(auth)\n\ng = input(\"Enter your search : \") \npublic_tweets = api.search(g)\n\nfor tweet in public_tweets:\n    print(tweet.text)\nanalysis = TextBlob(tweet.text)\nprint(analysis.sentiment)\nif analysis.sentiment[0]>0:\n    print ('Results: Positive')\nelse:\n    print ('Results: Negative')\nprint(\"\")"
        },
        {
            "cell_type": "code",
            "execution_count": null,
            "metadata": {},
            "outputs": [],
            "source": ""
        }
    ],
    "metadata": {
        "kernelspec": {
            "display_name": "Python 3.6",
            "language": "python",
            "name": "python3"
        },
        "language_info": {
            "codemirror_mode": {
                "name": "ipython",
                "version": 3
            },
            "file_extension": ".py",
            "mimetype": "text/x-python",
            "name": "python",
            "nbconvert_exporter": "python",
            "pygments_lexer": "ipython3",
            "version": "3.6.9"
        }
    },
    "nbformat": 4,
    "nbformat_minor": 1
}