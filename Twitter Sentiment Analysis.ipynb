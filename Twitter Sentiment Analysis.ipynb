{
 "cells": [
  {
   "cell_type": "markdown",
   "metadata": {},
   "source": [
    "<H1> <b> <u> Twitter Data Sentiment Analysis </H1>\n",
    "<h3> Live streaming sentiment analysis of twitter data using python language. The data is being accessed with the help of tokens from twitters developer account. </h3>"
   ]
  },
  {
   "cell_type": "code",
   "execution_count": 1,
   "metadata": {},
   "outputs": [
    {
     "name": "stdout",
     "output_type": "stream",
     "text": [
      "Enter your search : modi\n",
      "1st pic: Muslim man  went to buy  food to his feed Family got beaten Ruthlessly۔\n",
      "In 2nd pic, Hindu man feeling exci… https://t.co/Oq5t8EpBor\n",
      "RT @srivatsayb: In just 30 secs, she has exposed Modi's 6 years\n",
      "\n",
      "https://t.co/o77zhnZu91\n",
      "RT @KIRANK52519975: Brahmins have brain within a Brain \n",
      "Dr.Ambedkar\n",
      "\n",
      "But Modi bhakt Haven't brain to think\n",
      "\n",
      "#मोदी_अंधभक्तों_के_कारनामे\n",
      "@timesofindia @timesofindia        see , even he does not trust you !!  Yes ,as advised by ABanerjee , Rahul now mu… https://t.co/HoMN8hhqc7\n",
      "RT @SGOUTAM8: The central government and the Madhya Pradesh government have ordered the openness of the liquor shop. Is this perfection wro…\n",
      "Oye modi ki bina time wali aulaado modi  ne bolo pehle mehul choksi or neerav modi ne pakd la baat katre hai ye mu… https://t.co/0vnrt8VNME\n",
      "RT @srivatsayb: BJP leaders are LYING about Govt not charging for railway tickets\n",
      "\n",
      "The video is from PM Modi's Gujarat where many migrants…\n",
      "RT @SardarVm: Atten: PM MODI \n",
      "\n",
      "You waived Rs.68,607 crores of bank loans taken by corporates &amp; some cheats. \n",
      "\n",
      "Now:\n",
      "\n",
      "Waive all loans of Farm…\n",
      "RT @ashoswai: Modi has bought two new aircraft for his travel and India has paid Rs 8,458 crore! https://t.co/1xD3cFjotN\n",
      "RT @waglenikhil: Under Opposition Pressure, Modi Govt Decides to Not Charge Workers Rail Fare https://t.co/BA3xz2M6KI\n",
      "RT @AsimAli6: When Modi last addressed the nation, 3 weeks back, total deaths were 400. We have now had 200 deaths in a day. It's amazing t…\n",
      "RT @ChetanBagda2: Andhbhakt of modi don't know what are the problems in Society\n",
      "\n",
      "#मोदी_अंधभक्तों_के_कारनामे https://t.co/GbJrv1dTSm\n",
      "RT @srivatsayb: In just 30 secs, she has exposed Modi's 6 years\n",
      "\n",
      "https://t.co/o77zhnZu91\n",
      "RT @ashoswai: What will be Modi without a Pakistan? Nehru had started the NAM, but Modi had not attended even the previous two NAM summits…\n",
      "Modi ji k pass Natak karne k liye bht budget hai lekin mazdoor ki baat aye to State Government per Thop dete hai… https://t.co/eS8btULG0v\n",
      "Sentiment(polarity=0.0, subjectivity=0.0)\n",
      "Results: Negative\n",
      "\n"
     ]
    }
   ],
   "source": [
    "#tweepy - an easy to use python library for accesing the twitter api.\n",
    "import tweepy\n",
    "from textblob import TextBlob\n",
    "\n",
    "consumer_key = 'fjIX9AuuaNsVwfDuFZKtGhsZ0'\n",
    "consumer_key_secret = 'hg9lVmkRnLVdwWJArgz5Lm1iGxyzMAjgXHQjbGoffzgvEOCta1'\n",
    "\n",
    "access_token = '1084501107483791362-rE9QsZc9vAcJZJKhkahrPr67wPzYkh'\n",
    "access_token_secret = 'ZzjJdlGqWdjpzQ5oLHe0ewunhS55OBvM8E7DV2VQC0tdd'\n",
    "\n",
    "auth = tweepy.OAuthHandler(consumer_key, consumer_key_secret)\n",
    "\n",
    "auth.set_access_token(access_token, access_token_secret)\n",
    "\n",
    "api = tweepy.API(auth)\n",
    "\n",
    "g = input(\"Enter your search : \") \n",
    "public_tweets = api.search(g)\n",
    "\n",
    "for tweet in public_tweets:\n",
    "    print(tweet.text)\n",
    "analysis = TextBlob(tweet.text)\n",
    "print(analysis.sentiment)\n",
    "if analysis.sentiment[0]>0:\n",
    "    print ('Results: Positive')\n",
    "else:\n",
    "    print ('Results: Negative')\n",
    "print(\"\")"
   ]
  },
  {
   "cell_type": "code",
   "execution_count": null,
   "metadata": {},
   "outputs": [],
   "source": []
  }
 ],
 "metadata": {
  "kernelspec": {
   "display_name": "Python 3",
   "language": "python",
   "name": "python3"
  },
  "language_info": {
   "codemirror_mode": {
    "name": "ipython",
    "version": 3
   },
   "file_extension": ".py",
   "mimetype": "text/x-python",
   "name": "python",
   "nbconvert_exporter": "python",
   "pygments_lexer": "ipython3",
   "version": "3.7.4"
  }
 },
 "nbformat": 4,
 "nbformat_minor": 2
}
